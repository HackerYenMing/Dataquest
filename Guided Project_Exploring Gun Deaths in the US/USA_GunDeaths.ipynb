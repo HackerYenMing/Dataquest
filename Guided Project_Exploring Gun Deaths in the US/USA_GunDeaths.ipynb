{
 "cells": [
  {
   "cell_type": "code",
   "execution_count": 1,
   "metadata": {},
   "outputs": [
    {
     "name": "stdout",
     "output_type": "stream",
     "text": [
      "[['', 'year', 'month', 'intent', 'police', 'sex', 'age', 'race', 'hispanic', 'place', 'education'], ['1', '2012', '01', 'Suicide', '0', 'M', '34', 'Asian/Pacific Islander', '100', 'Home', '4'], ['2', '2012', '01', 'Suicide', '0', 'F', '21', 'White', '100', 'Street', '3'], ['3', '2012', '01', 'Suicide', '0', 'M', '60', 'White', '100', 'Other specified', '4'], ['4', '2012', '02', 'Suicide', '0', 'M', '64', 'White', '100', 'Home', '4']]\n"
     ]
    }
   ],
   "source": [
    "import csv\n",
    "\n",
    "file = open('guns.csv', 'r')\n",
    "csv_file = csv.reader(file)\n",
    "data = list(csv_file)\n",
    "\n",
    "print(data[:5])"
   ]
  },
  {
   "cell_type": "code",
   "execution_count": 2,
   "metadata": {},
   "outputs": [
    {
     "name": "stdout",
     "output_type": "stream",
     "text": [
      "[['', 'year', 'month', 'intent', 'police', 'sex', 'age', 'race', 'hispanic', 'place', 'education']]\n",
      "[['1', '2012', '01', 'Suicide', '0', 'M', '34', 'Asian/Pacific Islander', '100', 'Home', '4'], ['2', '2012', '01', 'Suicide', '0', 'F', '21', 'White', '100', 'Street', '3'], ['3', '2012', '01', 'Suicide', '0', 'M', '60', 'White', '100', 'Other specified', '4'], ['4', '2012', '02', 'Suicide', '0', 'M', '64', 'White', '100', 'Home', '4'], ['5', '2012', '02', 'Suicide', '0', 'M', '31', 'White', '100', 'Other specified', '2']]\n"
     ]
    }
   ],
   "source": [
    "headers = data[:1]\n",
    "data = data[1:]\n",
    "\n",
    "print(headers)\n",
    "print(data[:5])"
   ]
  },
  {
   "cell_type": "code",
   "execution_count": 3,
   "metadata": {},
   "outputs": [
    {
     "name": "stdout",
     "output_type": "stream",
     "text": [
      "{'2012': 33563, '2013': 33636, '2014': 33599}\n"
     ]
    }
   ],
   "source": [
    "years = [row[1] for row in data]\n",
    "year_counts = {}\n",
    "\n",
    "for year in years :\n",
    "    if year in year_counts:\n",
    "        year_counts[year] += 1\n",
    "    else :\n",
    "        year_counts[year] = 1\n",
    "\n",
    "print(year_counts)"
   ]
  },
  {
   "cell_type": "code",
   "execution_count": 12,
   "metadata": {},
   "outputs": [
    {
     "name": "stdout",
     "output_type": "stream",
     "text": [
      "[datetime.datetime(2012, 1, 1, 0, 0), datetime.datetime(2012, 1, 1, 0, 0), datetime.datetime(2012, 1, 1, 0, 0), datetime.datetime(2012, 2, 1, 0, 0), datetime.datetime(2012, 2, 1, 0, 0)]\n"
     ]
    },
    {
     "data": {
      "text/plain": [
       "{datetime.datetime(2012, 1, 1, 0, 0): 2758,\n",
       " datetime.datetime(2012, 2, 1, 0, 0): 2357,\n",
       " datetime.datetime(2012, 3, 1, 0, 0): 2743,\n",
       " datetime.datetime(2012, 4, 1, 0, 0): 2795,\n",
       " datetime.datetime(2012, 5, 1, 0, 0): 2999,\n",
       " datetime.datetime(2012, 6, 1, 0, 0): 2826,\n",
       " datetime.datetime(2012, 7, 1, 0, 0): 3026,\n",
       " datetime.datetime(2012, 8, 1, 0, 0): 2954,\n",
       " datetime.datetime(2012, 9, 1, 0, 0): 2852,\n",
       " datetime.datetime(2012, 10, 1, 0, 0): 2733,\n",
       " datetime.datetime(2012, 11, 1, 0, 0): 2729,\n",
       " datetime.datetime(2012, 12, 1, 0, 0): 2791,\n",
       " datetime.datetime(2013, 1, 1, 0, 0): 2864,\n",
       " datetime.datetime(2013, 2, 1, 0, 0): 2375,\n",
       " datetime.datetime(2013, 3, 1, 0, 0): 2862,\n",
       " datetime.datetime(2013, 4, 1, 0, 0): 2798,\n",
       " datetime.datetime(2013, 5, 1, 0, 0): 2806,\n",
       " datetime.datetime(2013, 6, 1, 0, 0): 2920,\n",
       " datetime.datetime(2013, 7, 1, 0, 0): 3079,\n",
       " datetime.datetime(2013, 8, 1, 0, 0): 2859,\n",
       " datetime.datetime(2013, 9, 1, 0, 0): 2742,\n",
       " datetime.datetime(2013, 10, 1, 0, 0): 2808,\n",
       " datetime.datetime(2013, 11, 1, 0, 0): 2758,\n",
       " datetime.datetime(2013, 12, 1, 0, 0): 2765,\n",
       " datetime.datetime(2014, 1, 1, 0, 0): 2651,\n",
       " datetime.datetime(2014, 2, 1, 0, 0): 2361,\n",
       " datetime.datetime(2014, 3, 1, 0, 0): 2684,\n",
       " datetime.datetime(2014, 4, 1, 0, 0): 2862,\n",
       " datetime.datetime(2014, 5, 1, 0, 0): 2864,\n",
       " datetime.datetime(2014, 6, 1, 0, 0): 2931,\n",
       " datetime.datetime(2014, 7, 1, 0, 0): 2884,\n",
       " datetime.datetime(2014, 8, 1, 0, 0): 2970,\n",
       " datetime.datetime(2014, 9, 1, 0, 0): 2914,\n",
       " datetime.datetime(2014, 10, 1, 0, 0): 2865,\n",
       " datetime.datetime(2014, 11, 1, 0, 0): 2756,\n",
       " datetime.datetime(2014, 12, 1, 0, 0): 2857}"
      ]
     },
     "execution_count": 12,
     "metadata": {},
     "output_type": "execute_result"
    }
   ],
   "source": [
    "import datetime\n",
    "\n",
    "dates = [datetime.datetime(year=int(row[1]), month=int(row[2]), day=1) \\\n",
    "         for row in data]\n",
    "print(dates[:5])\n",
    "\n",
    "date_counts = {}\n",
    "\n",
    "for date in dates :\n",
    "    if date in date_counts :\n",
    "        date_counts[date] += 1\n",
    "    else :\n",
    "        date_counts[date] = 1\n",
    "        \n",
    "date_counts"
   ]
  },
  {
   "cell_type": "code",
   "execution_count": 4,
   "metadata": {},
   "outputs": [
    {
     "name": "stdout",
     "output_type": "stream",
     "text": [
      "{'M': 86349, 'F': 14449}\n",
      "{'Asian/Pacific Islander': 1326, 'White': 66237, 'Native American/Native Alaskan': 917, 'Black': 23296, 'Hispanic': 9022}\n"
     ]
    }
   ],
   "source": [
    "sex_counts = {}\n",
    "race_counts = {}\n",
    "\n",
    "for row in data :\n",
    "    \n",
    "    if row[5] in sex_counts :\n",
    "        sex_counts[row[5]] += 1\n",
    "    else :\n",
    "        sex_counts[row[5]] = 1\n",
    "        \n",
    "    if row[7] in race_counts :\n",
    "        race_counts[row[7]] += 1\n",
    "    else :\n",
    "        race_counts[row[7]] = 1\n",
    "        \n",
    "print(sex_counts)\n",
    "print(race_counts)       "
   ]
  },
  {
   "cell_type": "code",
   "execution_count": 8,
   "metadata": {},
   "outputs": [
    {
     "data": {
      "text/plain": [
       "[['Id',\n",
       "  'Year',\n",
       "  'Id',\n",
       "  'Sex',\n",
       "  'Id',\n",
       "  'Hispanic Origin',\n",
       "  'Id',\n",
       "  'Id2',\n",
       "  'Geography',\n",
       "  'Total',\n",
       "  'Race Alone - White',\n",
       "  'Race Alone - Hispanic',\n",
       "  'Race Alone - Black or African American',\n",
       "  'Race Alone - American Indian and Alaska Native',\n",
       "  'Race Alone - Asian',\n",
       "  'Race Alone - Native Hawaiian and Other Pacific Islander',\n",
       "  'Two or More Races'],\n",
       " ['cen42010',\n",
       "  'April 1, 2010 Census',\n",
       "  'totsex',\n",
       "  'Both Sexes',\n",
       "  'tothisp',\n",
       "  'Total',\n",
       "  '0100000US',\n",
       "  '',\n",
       "  'United States',\n",
       "  '308745538',\n",
       "  '197318956',\n",
       "  '44618105',\n",
       "  '40250635',\n",
       "  '3739506',\n",
       "  '15159516',\n",
       "  '674625',\n",
       "  '6984195']]"
      ]
     },
     "execution_count": 8,
     "metadata": {},
     "output_type": "execute_result"
    }
   ],
   "source": [
    "file = open('census.csv', 'r')\n",
    "csv_file = csv.reader(file)\n",
    "census = list(csv_file)\n",
    "\n",
    "census"
   ]
  },
  {
   "cell_type": "code",
   "execution_count": 9,
   "metadata": {},
   "outputs": [
    {
     "name": "stdout",
     "output_type": "stream",
     "text": [
      "{'Asian/Pacific Islander': 15834141, 'Black': 40250635, 'Native American/Native Alaskan': 3739506, 'Hispanic': 44618105, 'White': 197318956}\n",
      "{'Asian/Pacific Islander': 8.374309664161762, 'White': 33.56849303419181, 'Native American/Native Alaskan': 24.521955573811088, 'Black': 57.8773477735196, 'Hispanic': 20.220491210910907}\n"
     ]
    }
   ],
   "source": [
    "mapping = {}\n",
    "\n",
    "mapping['Asian/Pacific Islander'] = int(census[1][14]) + int(census[1][15])\n",
    "mapping['Black'] = int(census[1][12])\n",
    "mapping['Native American/Native Alaskan'] = int(census[1][13])\n",
    "mapping['Hispanic'] = int(census[1][11])\n",
    "mapping['White'] = int(census[1][10])\n",
    "\n",
    "print(mapping)"
   ]
  },
  {
   "cell_type": "code",
   "execution_count": 10,
   "metadata": {},
   "outputs": [
    {
     "name": "stdout",
     "output_type": "stream",
     "text": [
      "{'Asian/Pacific Islander': 8.374309664161762, 'White': 33.56849303419181, 'Native American/Native Alaskan': 24.521955573811088, 'Black': 57.8773477735196, 'Hispanic': 20.220491210910907}\n"
     ]
    }
   ],
   "source": [
    "race_per_hundredk = {}\n",
    "\n",
    "for race, count in race_counts.items() :   \n",
    "    race_per_hundredk[race] = (count / mapping[race]) * 100000\n",
    "    \n",
    "print(race_per_hundredk)"
   ]
  },
  {
   "cell_type": "code",
   "execution_count": 7,
   "metadata": {},
   "outputs": [
    {
     "name": "stdout",
     "output_type": "stream",
     "text": [
      "{'White': 9147, 'Asian/Pacific Islander': 559, 'Black': 19510, 'Native American/Native Alaskan': 326, 'Hispanic': 5634}\n",
      "{'White': 4.6356417981453335, 'Asian/Pacific Islander': 3.530346230970155, 'Black': 48.471284987180944, 'Native American/Native Alaskan': 8.717729026240365, 'Hispanic': 12.627161104219914}\n"
     ]
    }
   ],
   "source": [
    "intents = [row[3] for row in data]\n",
    "races = [row[7] for row in data]\n",
    "\n",
    "homicide_race_counts = {}\n",
    "\n",
    "for i, race in enumerate(races) :\n",
    "    \n",
    "    if intents[i] != 'Homicide' :\n",
    "        continue\n",
    "        \n",
    "    if race in homicide_race_counts :\n",
    "        homicide_race_counts[race] += 1\n",
    "    else :\n",
    "        homicide_race_counts[race] = 1\n",
    "        \n",
    "print(homicide_race_counts)\n",
    "\n",
    "for race, count in homicide_race_counts.items() :\n",
    "    homicide_race_counts[race] = (count / mapping[race]) * 100000\n",
    "    \n",
    "print(homicide_race_counts)"
   ]
  },
  {
   "cell_type": "code",
   "execution_count": 22,
   "metadata": {},
   "outputs": [
    {
     "data": {
      "text/plain": [
       "{'2012/01': 972,\n",
       " '2012/02': 749,\n",
       " '2012/03': 966,\n",
       " '2012/04': 999,\n",
       " '2012/05': 1003,\n",
       " '2012/06': 1044,\n",
       " '2012/07': 1160,\n",
       " '2012/08': 1090,\n",
       " '2012/09': 1070,\n",
       " '2012/10': 979,\n",
       " '2012/11': 978,\n",
       " '2012/12': 1083,\n",
       " '2013/01': 986,\n",
       " '2013/02': 721,\n",
       " '2013/03': 923,\n",
       " '2013/04': 916,\n",
       " '2013/05': 955,\n",
       " '2013/06': 1066,\n",
       " '2013/07': 1137,\n",
       " '2013/08': 1000,\n",
       " '2013/09': 954,\n",
       " '2013/10': 1009,\n",
       " '2013/11': 979,\n",
       " '2013/12': 1028,\n",
       " '2014/01': 871,\n",
       " '2014/02': 708,\n",
       " '2014/03': 891,\n",
       " '2014/04': 930,\n",
       " '2014/05': 1018,\n",
       " '2014/06': 1020,\n",
       " '2014/07': 972,\n",
       " '2014/08': 1035,\n",
       " '2014/09': 942,\n",
       " '2014/10': 980,\n",
       " '2014/11': 962,\n",
       " '2014/12': 1080}"
      ]
     },
     "execution_count": 22,
     "metadata": {},
     "output_type": "execute_result"
    }
   ],
   "source": [
    "# The link between month and homicide rate.\n",
    "\n",
    "import datetime\n",
    "\n",
    "intents = [row[3] for row in data]\n",
    "\n",
    "dates = [datetime.datetime(year=int(row[1]), month=int(row[2]), day=1) for row in data]\n",
    "dates = [date.strftime('%Y/%m') for date in dates]\n",
    "\n",
    "#print(dates[:10])\n",
    "\n",
    "homicide_dates_counts = {}\n",
    "\n",
    "for it, date in enumerate(dates) :\n",
    "    \n",
    "    if intents[it] != 'Homicide' :\n",
    "        continue\n",
    "        \n",
    "    if date not in homicide_dates_counts :\n",
    "        homicide_dates_counts[date] = 0\n",
    "    homicide_dates_counts[date] += 1\n",
    "\n",
    "homicide_dates_counts"
   ]
  },
  {
   "cell_type": "code",
   "execution_count": 25,
   "metadata": {},
   "outputs": [
    {
     "data": {
      "text/plain": [
       "{'F': 5373, 'M': 29803}"
      ]
     },
     "execution_count": 25,
     "metadata": {},
     "output_type": "execute_result"
    }
   ],
   "source": [
    "# Homicide rate by gender.\n",
    "\n",
    "intents = [row[3] for row in data]\n",
    "genders = [row[5] for row in data]\n",
    "\n",
    "homicide_genders_counts = {}\n",
    "\n",
    "for it, gender in enumerate(genders) :\n",
    "    \n",
    "    if intents[it] != 'Homicide' :\n",
    "        continue\n",
    "        \n",
    "    if gender not in homicide_genders_counts :\n",
    "        homicide_genders_counts[gender] = 0\n",
    "    homicide_genders_counts[gender] += 1\n",
    "    \n",
    "homicide_genders_counts"
   ]
  },
  {
   "cell_type": "code",
   "execution_count": 36,
   "metadata": {},
   "outputs": [
    {
     "data": {
      "text/plain": [
       "{'F': {'Asian/Pacific Islander': 1.5409740256828584,\n",
       "  'Black': 5.7589153562422055,\n",
       "  'Hispanic': 2.404853366139149,\n",
       "  'Native American/Native Alaskan': 3.3961705102224733,\n",
       "  'White': 5.416104066555065},\n",
       " 'M': {'Asian/Pacific Islander': 6.833335638478904,\n",
       "  'Black': 52.1184324172774,\n",
       "  'Hispanic': 17.815637844771757,\n",
       "  'Native American/Native Alaskan': 21.125785063588612,\n",
       "  'White': 28.152388967636746}}"
      ]
     },
     "execution_count": 36,
     "metadata": {},
     "output_type": "execute_result"
    }
   ],
   "source": [
    "# The rates of other intents by gender and race.\n",
    "\n",
    "races = [row[7] for row in data]\n",
    "genders = [row[5] for row in data]\n",
    "\n",
    "races_genders_counts = {}\n",
    "\n",
    "for it, race in enumerate(races) :\n",
    "    \n",
    "    if genders[it] not in races_genders_counts :\n",
    "        races_genders_counts[genders[it]] = {}\n",
    "    \n",
    "    my_dict = races_genders_counts[genders[it]]    \n",
    "    if race not in my_dict :\n",
    "        my_dict[race] = 0\n",
    "    my_dict[race] += 1\n",
    "    \n",
    "    \n",
    "for gender in races_genders_counts :\n",
    "    for race, count in races_genders_counts[gender].items() :\n",
    "        \n",
    "        my_dict = races_genders_counts[gender]\n",
    "        my_dict[race] = (count / mapping[race]) * 100000\n",
    "    \n",
    "races_genders_counts"
   ]
  },
  {
   "cell_type": "code",
   "execution_count": 59,
   "metadata": {},
   "outputs": [
    {
     "name": "stdout",
     "output_type": "stream",
     "text": [
      "At least graduated from College\n",
      "-----------------------------------\n",
      "Home : 8647\n",
      "Other specified : 1943\n",
      "Other unspecified : 945\n",
      "Trade/service area : 521\n",
      "Street : 551\n",
      "Sports : 38\n",
      "School/instiution : 98\n",
      "Industrial/construction : 37\n",
      "Residential institution : 30\n",
      "NA : 67\n",
      "Farm : 69\n",
      "===================================\n",
      "Some College\n",
      "-----------------------------------\n",
      "Street : 1729\n",
      "Other specified : 3030\n",
      "Home : 13718\n",
      "Other unspecified : 1818\n",
      "Trade/service area : 739\n",
      "Sports : 35\n",
      "Industrial/construction : 56\n",
      "School/instiution : 148\n",
      "NA : 249\n",
      "Residential institution : 46\n",
      "Farm : 112\n",
      "===================================\n",
      "Graduated from High School or equivalent\n",
      "-----------------------------------\n",
      "Other specified : 5714\n",
      "Home : 25443\n",
      "NA : 669\n",
      "Other unspecified : 4003\n",
      "Farm : 208\n",
      "Street : 4977\n",
      "School/instiution : 234\n",
      "Trade/service area : 1447\n",
      "Industrial/construction : 110\n",
      "Residential institution : 84\n",
      "Sports : 38\n",
      "===================================\n",
      "Less than High School\n",
      "-----------------------------------\n",
      "Home : 11814\n",
      "Street : 3751\n",
      "Other specified : 2859\n",
      "NA : 373\n",
      "Other unspecified : 1990\n",
      "Trade/service area : 684\n",
      "Industrial/construction : 36\n",
      "School/instiution : 182\n",
      "Farm : 76\n",
      "Residential institution : 41\n",
      "Sports : 17\n",
      "===================================\n",
      "Not available\n",
      "-----------------------------------\n",
      "Home : 828\n",
      "Other specified : 201\n",
      "Trade/service area : 48\n",
      "Other unspecified : 104\n",
      "Street : 140\n",
      "Industrial/construction : 9\n",
      "School/instiution : 8\n",
      "NA : 26\n",
      "Farm : 3\n",
      "Residential institution : 2\n",
      "===================================\n",
      "NA\n",
      "-----------------------------------\n",
      "Other unspecified : 7\n",
      "Home : 36\n",
      "School/instiution : 1\n",
      "Street : 3\n",
      "Other specified : 4\n",
      "Farm : 2\n",
      "===================================\n"
     ]
    }
   ],
   "source": [
    "# Gun death rates by location and education.\n",
    "\n",
    "education_map = ['NA', 'Less than High School', 'Graduated from High School or equivalent', \\\n",
    "                 'Some College', 'At least graduated from College', 'Not available']\n",
    "\n",
    "locations = [row[9] for row in data]\n",
    "educations = [''] * len(data)\n",
    "\n",
    "for it, row in enumerate(data) :\n",
    "    \n",
    "    try :\n",
    "        index = int(row[10])\n",
    "    except ValueError :\n",
    "        index = 0\n",
    "        \n",
    "    educations[it] = education_map[index]\n",
    "\n",
    "    \n",
    "locations_educations_counts = {}\n",
    "\n",
    "for it, location in enumerate(locations) :\n",
    "    \n",
    "    if educations[it] not in locations_educations_counts :\n",
    "        locations_educations_counts[educations[it]] = {}\n",
    "    \n",
    "    my_dict = locations_educations_counts[educations[it]]    \n",
    "    if location not in my_dict :\n",
    "        my_dict[location] = 0\n",
    "    my_dict[location] += 1\n",
    "\n",
    "for key, val in locations_educations_counts.items() :\n",
    "    print(key)\n",
    "    print('-----------------------------------')\n",
    "    for k, v in val.items() :\n",
    "        print(k, ':', v)\n",
    "        \n",
    "    print('===================================')"
   ]
  },
  {
   "cell_type": "code",
   "execution_count": null,
   "metadata": {
    "collapsed": true
   },
   "outputs": [],
   "source": []
  }
 ],
 "metadata": {
  "kernelspec": {
   "display_name": "Python 3",
   "language": "python",
   "name": "python3"
  },
  "language_info": {
   "codemirror_mode": {
    "name": "ipython",
    "version": 3
   },
   "file_extension": ".py",
   "mimetype": "text/x-python",
   "name": "python",
   "nbconvert_exporter": "python",
   "pygments_lexer": "ipython3",
   "version": "3.6.2"
  }
 },
 "nbformat": 4,
 "nbformat_minor": 1
}
