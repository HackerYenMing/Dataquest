{
 "cells": [
  {
   "cell_type": "code",
   "execution_count": 2,
   "metadata": {},
   "outputs": [
    {
     "name": "stdout",
     "output_type": "stream",
     "text": [
      "(0, 'id', 'integer', 0, None, 1)\n",
      "(1, 'category', 'text', 0, None, 0)\n",
      "(2, 'nominee', 'text', 0, None, 0)\n",
      "(3, 'movie', 'text', 0, None, 0)\n",
      "(4, 'character', 'text', 0, None, 0)\n",
      "(5, 'won', 'integer', 0, None, 0)\n",
      "(6, 'ceremony_id', 'integer', 0, None, 0)\n"
     ]
    }
   ],
   "source": [
    "import sqlite3\n",
    "conn = sqlite3.connect('nominations.db')\n",
    "cursor = conn.cursor()\n",
    "\n",
    "schema = cursor.execute('pragma table_info(nominations)').fetchall()\n",
    "for row in schema :\n",
    "    print(row)"
   ]
  },
  {
   "cell_type": "code",
   "execution_count": 3,
   "metadata": {},
   "outputs": [
    {
     "name": "stdout",
     "output_type": "stream",
     "text": [
      "(1, 'Actor -- Leading Role', 'Javier Bardem', 'Biutiful', 'Uxbal', 0, 1)\n",
      "(2, 'Actor -- Leading Role', 'Jeff Bridges', 'True Grit', 'Rooster Cogburn', 0, 1)\n",
      "(3, 'Actor -- Leading Role', 'Jesse Eisenberg', 'The Social Network', 'Mark Zuckerberg', 0, 1)\n",
      "(4, 'Actor -- Leading Role', 'Colin Firth', \"The King's Speech\", 'King George VI', 1, 1)\n",
      "(5, 'Actor -- Leading Role', 'James Franco', '127 Hours', 'Aron Ralston', 0, 1)\n"
     ]
    }
   ],
   "source": [
    "first_five = cursor.execute('select * from nominations limit 5').fetchall()\n",
    "for row in first_five :\n",
    "    print(row)"
   ]
  },
  {
   "cell_type": "code",
   "execution_count": 4,
   "metadata": {},
   "outputs": [
    {
     "data": {
      "text/plain": [
       "<sqlite3.Cursor at 0x2bd24089b20>"
      ]
     },
     "execution_count": 4,
     "metadata": {},
     "output_type": "execute_result"
    }
   ],
   "source": [
    "# Create the ceremonies table with the following schema\n",
    "\n",
    "q_createCeremonies = '''\n",
    "create table ceremonies (\n",
    "    id integer primary key,\n",
    "    Year integer,\n",
    "    Host text\n",
    ")\n",
    "'''\n",
    "cursor.execute(q_createCeremonies)"
   ]
  },
  {
   "cell_type": "code",
   "execution_count": 11,
   "metadata": {},
   "outputs": [
    {
     "name": "stdout",
     "output_type": "stream",
     "text": [
      "(0, 'id', 'integer', 0, None, 1)\n",
      "(1, 'Year', 'integer', 0, None, 0)\n",
      "(2, 'Host', 'text', 0, None, 0)\n"
     ]
    }
   ],
   "source": [
    "schema = cursor.execute('pragma table_info(ceremonies)').fetchall()\n",
    "for row in schema :\n",
    "    print(row)\n",
    "    \n",
    "ceremonie_data = cursor.execute('select * from ceremonies').fetchall()\n",
    "for row in ceremonie_data :\n",
    "    print(row)"
   ]
  },
  {
   "cell_type": "code",
   "execution_count": 12,
   "metadata": {},
   "outputs": [
    {
     "data": {
      "text/plain": [
       "<sqlite3.Cursor at 0x7f1f9828c810>"
      ]
     },
     "execution_count": 12,
     "metadata": {},
     "output_type": "execute_result"
    }
   ],
   "source": [
    "# the Connection method executemany to insert the values into the ceremonies table\n",
    "\n",
    "years_hosts = [(2010, \"Steve Martin\"),\n",
    "               (2009, \"Hugh Jackman\"),\n",
    "               (2008, \"Jon Stewart\"),\n",
    "               (2007, \"Ellen DeGeneres\"),\n",
    "               (2006, \"Jon Stewart\"),\n",
    "               (2005, \"Chris Rock\"),\n",
    "               (2004, \"Billy Crystal\"),\n",
    "               (2003, \"Steve Martin\"),\n",
    "               (2002, \"Whoopi Goldberg\"),\n",
    "               (2001, \"Steve Martin\"),\n",
    "               (2000, \"Billy Crystal\")]\n",
    "insert_query = 'insert into ceremonies (Year, Host) values (?, ?)'\n",
    "cursor.executemany(insert_query, years_hosts)"
   ]
  },
  {
   "cell_type": "code",
   "execution_count": 13,
   "metadata": {},
   "outputs": [
    {
     "name": "stdout",
     "output_type": "stream",
     "text": [
      "(1, 2010, 'Steve Martin')\n",
      "(2, 2009, 'Hugh Jackman')\n",
      "(3, 2008, 'Jon Stewart')\n",
      "(4, 2007, 'Ellen DeGeneres')\n",
      "(5, 2006, 'Jon Stewart')\n",
      "(6, 2005, 'Chris Rock')\n",
      "(7, 2004, 'Billy Crystal')\n",
      "(8, 2003, 'Steve Martin')\n",
      "(9, 2002, 'Whoopi Goldberg')\n",
      "(10, 2001, 'Steve Martin')\n",
      "(11, 2000, 'Billy Crystal')\n"
     ]
    }
   ],
   "source": [
    "ceremonie_data = cursor.execute('select * from ceremonies').fetchall()\n",
    "for row in ceremonie_data :\n",
    "    print(row)"
   ]
  },
  {
   "cell_type": "code",
   "execution_count": 14,
   "metadata": {},
   "outputs": [
    {
     "data": {
      "text/plain": [
       "<sqlite3.Cursor at 0x7f1f9828c730>"
      ]
     },
     "execution_count": 14,
     "metadata": {},
     "output_type": "execute_result"
    }
   ],
   "source": [
    "# Turn on foreign key constraints\n",
    "conn.execute('PRAGMA foreign_keys = ON;')"
   ]
  },
  {
   "cell_type": "code",
   "execution_count": 18,
   "metadata": {},
   "outputs": [
    {
     "data": {
      "text/plain": [
       "<sqlite3.Cursor at 0x7f1f9828c810>"
      ]
     },
     "execution_count": 18,
     "metadata": {},
     "output_type": "execute_result"
    }
   ],
   "source": [
    "# create a new table nominations_two with the schema we want\n",
    "\n",
    "q_newNominations = '''\n",
    "create table nominations_two (\n",
    "    id integer primary key,\n",
    "    category text,\n",
    "    nominee text,\n",
    "    movie text,\n",
    "    character text,\n",
    "    won integer,\n",
    "    ceremony_id integer,\n",
    "    foreign key (ceremony_id) references ceremonies(id)\n",
    ")\n",
    "'''\n",
    "cursor.execute(q_newNominations)"
   ]
  },
  {
   "cell_type": "code",
   "execution_count": 20,
   "metadata": {},
   "outputs": [
    {
     "data": {
      "text/plain": [
       "[(0, 'id', 'integer', 0, None, 1),\n",
       " (1, 'category', 'text', 0, None, 0),\n",
       " (2, 'nominee', 'text', 0, None, 0),\n",
       " (3, 'movie', 'text', 0, None, 0),\n",
       " (4, 'character', 'text', 0, None, 0),\n",
       " (5, 'won', 'integer', 0, None, 0),\n",
       " (6, 'ceremony_id', 'integer', 0, None, 0)]"
      ]
     },
     "execution_count": 20,
     "metadata": {},
     "output_type": "execute_result"
    }
   ],
   "source": [
    "cursor.execute('pragma table_info(nominations_two)').fetchall()"
   ]
  },
  {
   "cell_type": "code",
   "execution_count": 27,
   "metadata": {},
   "outputs": [
    {
     "data": {
      "text/plain": [
       "<sqlite3.Cursor at 0x7f1f9828c810>"
      ]
     },
     "execution_count": 27,
     "metadata": {},
     "output_type": "execute_result"
    }
   ],
   "source": [
    "# populate nominations_two with the records we want\n",
    "\n",
    "q_populateData = '''\n",
    "select nominations.category, nominations.nominee, nominations.movie, \n",
    "       nominations.character, nominations.won, ceremonies.id\n",
    "from nominations\n",
    "inner join ceremonies\n",
    "on nominations.year == ceremonies.year\n",
    "'''\n",
    "\n",
    "joined_nominations = cursor.execute(q_populateData).fetchall()\n",
    "\n",
    "q_insertNewNominations = '''\n",
    "insert into nominations_two\n",
    "(category, nominee, movie, character, won, ceremony_id)\n",
    "values (?, ?, ?, ?, ?, ?)\n",
    "'''\n",
    "cursor.executemany(q_insertNewNominations, joined_nominations)"
   ]
  },
  {
   "cell_type": "code",
   "execution_count": 29,
   "metadata": {},
   "outputs": [
    {
     "name": "stdout",
     "output_type": "stream",
     "text": [
      "(1, 'Actor -- Leading Role', 'Javier Bardem', 'Biutiful', 'Uxbal', 0, 1)\n",
      "(2, 'Actor -- Leading Role', 'Jeff Bridges', 'True Grit', 'Rooster Cogburn', 0, 1)\n",
      "(3, 'Actor -- Leading Role', 'Jesse Eisenberg', 'The Social Network', 'Mark Zuckerberg', 0, 1)\n",
      "(4, 'Actor -- Leading Role', 'Colin Firth', \"The King's Speech\", 'King George VI', 1, 1)\n",
      "(5, 'Actor -- Leading Role', 'James Franco', '127 Hours', 'Aron Ralston', 0, 1)\n"
     ]
    }
   ],
   "source": [
    "# Verify your work by returning the first 5 rows from nominations_two\n",
    "\n",
    "ceremonie_data = cursor.execute('select * from nominations_two limit 5').fetchall()\n",
    "for row in ceremonie_data :\n",
    "    print(row)"
   ]
  },
  {
   "cell_type": "code",
   "execution_count": 30,
   "metadata": {},
   "outputs": [
    {
     "data": {
      "text/plain": [
       "<sqlite3.Cursor at 0x7f1f98205a40>"
      ]
     },
     "execution_count": 30,
     "metadata": {},
     "output_type": "execute_result"
    }
   ],
   "source": [
    "# Deleting and renaming tables\n",
    "# delete the original nominations table, rename nominations_two to nominations\n",
    "\n",
    "conn.execute('drop table nominations')\n",
    "conn.execute('alter table nominations_two rename to nominations')"
   ]
  },
  {
   "cell_type": "code",
   "execution_count": 33,
   "metadata": {},
   "outputs": [
    {
     "data": {
      "text/plain": [
       "<sqlite3.Cursor at 0x7f1f98205c70>"
      ]
     },
     "execution_count": 33,
     "metadata": {},
     "output_type": "execute_result"
    }
   ],
   "source": [
    "# Create the 3 tables we need to model the relationship between movies and actors.\n",
    "\n",
    "q_movies = '''\n",
    "create table movies (\n",
    "    id integer primary key,\n",
    "    movie text\n",
    ")\n",
    "'''\n",
    "q_actors = '''\n",
    "create table actors (\n",
    "    id integer primary key,\n",
    "    actor text\n",
    ")\n",
    "'''\n",
    "q_moviesActors  = '''\n",
    "create table movies_actors (\n",
    "    id integer primary key,\n",
    "    movie_id integer references movies(id),\n",
    "    actor_id integer references actors(id)\n",
    ")\n",
    "'''\n",
    "\n",
    "conn.execute(q_movies)\n",
    "conn.execute(q_actors)\n",
    "conn.execute(q_moviesActors)"
   ]
  },
  {
   "cell_type": "code",
   "execution_count": 42,
   "metadata": {},
   "outputs": [
    {
     "data": {
      "text/plain": [
       "<sqlite3.Cursor at 0x7f1f9828c810>"
      ]
     },
     "execution_count": 42,
     "metadata": {},
     "output_type": "execute_result"
    }
   ],
   "source": [
    "# The SQL INSERT INTO SELECT Statement\n",
    "# https://www.w3schools.com/sql/sql_insert_into_select.asp\n",
    "\n",
    "q_insertMovies = '''\n",
    "insert into movies (movie)\n",
    "select distinct(movie) from nominations\n",
    "'''\n",
    "q_insertActors = '''\n",
    "insert into actors (actor)\n",
    "select distinct(nominee) from nominations\n",
    "'''\n",
    "\n",
    "cursor.execute(q_insertMovies)\n",
    "cursor.execute(q_insertActors)"
   ]
  },
  {
   "cell_type": "code",
   "execution_count": 43,
   "metadata": {},
   "outputs": [
    {
     "name": "stdout",
     "output_type": "stream",
     "text": [
      "(1, 'Biutiful')\n",
      "(2, 'True Grit')\n",
      "(3, 'The Social Network')\n",
      "(4, \"The King's Speech\")\n",
      "(5, '127 Hours')\n",
      "(1, 'Javier Bardem')\n",
      "(2, 'Jeff Bridges')\n",
      "(3, 'Jesse Eisenberg')\n",
      "(4, 'Colin Firth')\n",
      "(5, 'James Franco')\n"
     ]
    }
   ],
   "source": [
    "# Verify your work by returning the first 5 rows from movies & actors\n",
    "\n",
    "movies_data = cursor.execute('select * from movies limit 5').fetchall()\n",
    "for row in movies_data :\n",
    "    print(row)\n",
    "\n",
    "actors_data = cursor.execute('select * from actors limit 5').fetchall()\n",
    "for row in actors_data :\n",
    "    print(row)"
   ]
  },
  {
   "cell_type": "code",
   "execution_count": 46,
   "metadata": {},
   "outputs": [
    {
     "data": {
      "text/plain": [
       "<sqlite3.Cursor at 0x7f1f9828c810>"
      ]
     },
     "execution_count": 46,
     "metadata": {},
     "output_type": "execute_result"
    }
   ],
   "source": [
    "# populate the join table and the linked tables using data from nominations\n",
    "\n",
    "q_nominations = \"select movie, nominee from nominations\"\n",
    "movie_nominee = cursor.execute(q_nominations).fetchall()\n",
    "# movie_nominee\n",
    "\n",
    "q_insertMoviesActors = '''\n",
    "insert into movies_actors (movie_id, actor_id)\n",
    "values ( (select id from movies where movie == ?),\n",
    "         (select id from actors where actor == ?) )\n",
    "'''\n",
    "cursor.executemany(q_insertMoviesActors, movie_nominee)"
   ]
  },
  {
   "cell_type": "code",
   "execution_count": 47,
   "metadata": {},
   "outputs": [
    {
     "name": "stdout",
     "output_type": "stream",
     "text": [
      "(1, 1, 1)\n",
      "(2, 2, 2)\n",
      "(3, 3, 3)\n",
      "(4, 4, 4)\n",
      "(5, 5, 5)\n",
      "(6, 6, 6)\n",
      "(7, 7, 7)\n",
      "(8, 8, 8)\n",
      "(9, 9, 9)\n",
      "(10, 4, 10)\n"
     ]
    }
   ],
   "source": [
    "# Verify your work by returning the first 10 rows from movies_actors\n",
    "\n",
    "movies_actors_data = cursor.execute('select * from movies_actors limit 10').fetchall()\n",
    "for row in movies_actors_data :\n",
    "    print(row)"
   ]
  },
  {
   "cell_type": "code",
   "execution_count": null,
   "metadata": {
    "collapsed": true
   },
   "outputs": [],
   "source": []
  }
 ],
 "metadata": {
  "kernelspec": {
   "display_name": "Python 3",
   "language": "python",
   "name": "python3"
  },
  "language_info": {
   "codemirror_mode": {
    "name": "ipython",
    "version": 3
   },
   "file_extension": ".py",
   "mimetype": "text/x-python",
   "name": "python",
   "nbconvert_exporter": "python",
   "pygments_lexer": "ipython3",
   "version": "3.6.3"
  }
 },
 "nbformat": 4,
 "nbformat_minor": 1
}
